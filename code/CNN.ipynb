{
 "cells": [
  {
   "cell_type": "code",
   "execution_count": 1,
   "metadata": {},
   "outputs": [],
   "source": [
    "import numpy as np\n",
    "import tensorflow as tf\n",
    "from tensorflow.keras import layers, models\n",
    "from keras.datasets import mnist\n",
    "\n"
   ]
  },
  {
   "cell_type": "code",
   "execution_count": 2,
   "metadata": {},
   "outputs": [],
   "source": [
    "(x_train, y_train), (x_test, y_test) = mnist.load_data()\n",
    "\n",
    "x_train, x_test = x_train / 255.0, x_test / 255.0\n",
    "\n",
    "x_train = x_train[..., tf.newaxis]\n",
    "x_test = x_test[..., tf.newaxis]\n"
   ]
  },
  {
   "cell_type": "code",
   "execution_count": 3,
   "metadata": {},
   "outputs": [
    {
     "name": "stdout",
     "output_type": "stream",
     "text": [
      "Model: \"sequential\"\n",
      "_________________________________________________________________\n",
      " Layer (type)                Output Shape              Param #   \n",
      "=================================================================\n",
      " conv2d (Conv2D)             (None, 26, 26, 128)       1280      \n",
      "                                                                 \n",
      " max_pooling2d (MaxPooling2  (None, 13, 13, 128)       0         \n",
      " D)                                                              \n",
      "                                                                 \n",
      " conv2d_1 (Conv2D)           (None, 11, 11, 128)       147584    \n",
      "                                                                 \n",
      " max_pooling2d_1 (MaxPoolin  (None, 5, 5, 128)         0         \n",
      " g2D)                                                            \n",
      "                                                                 \n",
      " conv2d_2 (Conv2D)           (None, 3, 3, 128)         147584    \n",
      "                                                                 \n",
      " flatten (Flatten)           (None, 1152)              0         \n",
      "                                                                 \n",
      " dense (Dense)               (None, 128)               147584    \n",
      "                                                                 \n",
      " dense_1 (Dense)             (None, 15)                1935      \n",
      "                                                                 \n",
      "=================================================================\n",
      "Total params: 445967 (1.70 MB)\n",
      "Trainable params: 445967 (1.70 MB)\n",
      "Non-trainable params: 0 (0.00 Byte)\n",
      "_________________________________________________________________\n",
      "Epoch 1/15\n"
     ]
    },
    {
     "name": "stderr",
     "output_type": "stream",
     "text": [
      "C:\\Users\\datng\\AppData\\Local\\Packages\\PythonSoftwareFoundation.Python.3.11_qbz5n2kfra8p0\\LocalCache\\local-packages\\Python311\\site-packages\\keras\\src\\backend.py:5714: UserWarning: \"`sparse_categorical_crossentropy` received `from_logits=True`, but the `output` argument was produced by a Softmax activation and thus does not represent logits. Was this intended?\n",
      "  output, from_logits = _get_logits(\n"
     ]
    },
    {
     "name": "stdout",
     "output_type": "stream",
     "text": [
      "1875/1875 [==============================] - 39s 21ms/step - loss: 0.2970 - accuracy: 0.9104 - val_loss: 0.0887 - val_accuracy: 0.9732\n",
      "Epoch 2/15\n",
      "1875/1875 [==============================] - 39s 21ms/step - loss: 0.0791 - accuracy: 0.9761 - val_loss: 0.0515 - val_accuracy: 0.9837\n",
      "Epoch 3/15\n",
      "1875/1875 [==============================] - 43s 23ms/step - loss: 0.0542 - accuracy: 0.9834 - val_loss: 0.0417 - val_accuracy: 0.9856\n",
      "Epoch 4/15\n",
      "1875/1875 [==============================] - 41s 22ms/step - loss: 0.0422 - accuracy: 0.9870 - val_loss: 0.0391 - val_accuracy: 0.9873\n",
      "Epoch 5/15\n",
      "1875/1875 [==============================] - 40s 21ms/step - loss: 0.0339 - accuracy: 0.9896 - val_loss: 0.0309 - val_accuracy: 0.9896\n",
      "Epoch 6/15\n",
      "1875/1875 [==============================] - 40s 21ms/step - loss: 0.0281 - accuracy: 0.9911 - val_loss: 0.0373 - val_accuracy: 0.9873\n",
      "Epoch 7/15\n",
      "1875/1875 [==============================] - 40s 21ms/step - loss: 0.0236 - accuracy: 0.9924 - val_loss: 0.0264 - val_accuracy: 0.9909\n",
      "Epoch 8/15\n",
      "1875/1875 [==============================] - 40s 21ms/step - loss: 0.0195 - accuracy: 0.9938 - val_loss: 0.0307 - val_accuracy: 0.9903\n",
      "Epoch 9/15\n",
      "1875/1875 [==============================] - 40s 21ms/step - loss: 0.0163 - accuracy: 0.9950 - val_loss: 0.0242 - val_accuracy: 0.9925\n",
      "Epoch 10/15\n",
      "1875/1875 [==============================] - 40s 21ms/step - loss: 0.0144 - accuracy: 0.9955 - val_loss: 0.0276 - val_accuracy: 0.9905\n",
      "Epoch 11/15\n",
      "1875/1875 [==============================] - 40s 21ms/step - loss: 0.0123 - accuracy: 0.9961 - val_loss: 0.0231 - val_accuracy: 0.9923\n",
      "Epoch 12/15\n",
      "1875/1875 [==============================] - 40s 21ms/step - loss: 0.0094 - accuracy: 0.9969 - val_loss: 0.0258 - val_accuracy: 0.9919\n",
      "Epoch 13/15\n",
      "1875/1875 [==============================] - 40s 22ms/step - loss: 0.0089 - accuracy: 0.9974 - val_loss: 0.0289 - val_accuracy: 0.9916\n",
      "Epoch 14/15\n",
      "1875/1875 [==============================] - 40s 21ms/step - loss: 0.0072 - accuracy: 0.9979 - val_loss: 0.0336 - val_accuracy: 0.9901\n",
      "Epoch 15/15\n",
      "1875/1875 [==============================] - 40s 21ms/step - loss: 0.0066 - accuracy: 0.9978 - val_loss: 0.0315 - val_accuracy: 0.9913\n"
     ]
    },
    {
     "data": {
      "text/plain": [
       "<keras.src.callbacks.History at 0x16969d27950>"
      ]
     },
     "execution_count": 3,
     "metadata": {},
     "output_type": "execute_result"
    }
   ],
   "source": [
    "from tensorflow.keras.optimizers import Adam\n",
    "\n",
    "model = models.Sequential([\n",
    "    layers.Conv2D(128, (3, 3), activation='relu', input_shape=(28, 28, 1)),\n",
    "    layers.MaxPooling2D((2, 2)),\n",
    "    layers.Conv2D(128, (3, 3), activation='relu'),\n",
    "    layers.MaxPooling2D((2, 2)),\n",
    "    layers.Conv2D(128, (3, 3), activation='relu'),\n",
    "    layers.Flatten(),\n",
    "    layers.Dense(128, activation='relu'),\n",
    "    layers.Dense(15, activation='softmax')\n",
    "])\n",
    "\n",
    "optimizer = Adam(learning_rate=1e-4, beta_1=0.9, beta_2=0.999, epsilon=1e-7)\n",
    "model.compile(optimizer=optimizer, loss=tf.keras.losses.SparseCategoricalCrossentropy(from_logits=True), metrics=['accuracy'])\n",
    "model.summary()\n",
    "\n",
    "model.fit(x_train, y_train, epochs=15, validation_data=(x_test, y_test))\n"
   ]
  },
  {
   "cell_type": "code",
   "execution_count": 4,
   "metadata": {},
   "outputs": [
    {
     "name": "stdout",
     "output_type": "stream",
     "text": [
      "313/313 - 2s - loss: 0.0315 - accuracy: 0.9913 - 2s/epoch - 6ms/step\n",
      "0.9912999868392944\n"
     ]
    },
    {
     "name": "stderr",
     "output_type": "stream",
     "text": [
      "C:\\Users\\datng\\AppData\\Local\\Packages\\PythonSoftwareFoundation.Python.3.11_qbz5n2kfra8p0\\LocalCache\\local-packages\\Python311\\site-packages\\keras\\src\\engine\\training.py:3000: UserWarning: You are saving your model as an HDF5 file via `model.save()`. This file format is considered legacy. We recommend using instead the native Keras format, e.g. `model.save('my_model.keras')`.\n",
      "  saving_api.save_model(\n"
     ]
    }
   ],
   "source": [
    "test_loss, test_acc = model.evaluate(x_test, y_test, verbose=2)\n",
    "print(test_acc)\n",
    "model.save('model.h5')"
   ]
  },
  {
   "cell_type": "code",
   "execution_count": 21,
   "metadata": {},
   "outputs": [
    {
     "name": "stdout",
     "output_type": "stream",
     "text": [
      "1/1 [==============================] - 0s 38ms/step\n",
      "9\n"
     ]
    }
   ],
   "source": [
    "from PIL import Image\n",
    "import tensorflow\n",
    "from tensorflow.keras import models\n",
    "import numpy as np\n",
    "\n",
    "model = tensorflow.keras.models.load_model('model.h5')\n",
    "img = Image.open('../images/9/test9_1.png').convert('L')\n",
    "\n",
    "img_rezie = img.resize((28, 28))\n",
    "\n",
    "img_array = np.array(img_rezie) / 255.0 \n",
    "\n",
    "img_array = np.expand_dims(img_array, axis=-1)\n",
    "img_array = np.expand_dims(img_array, axis=0)\n",
    "\n",
    "model = models.load_model('model.h5')\n",
    "\n",
    "predictions = model.predict(img_array)\n",
    "predicted = np.argmax(predictions[0])\n",
    "\n",
    "def predict_prob(number):\n",
    "  return [number[0],1-number[0]]\n",
    "\n",
    "print(predicted)"
   ]
  }
 ],
 "metadata": {
  "kernelspec": {
   "display_name": "Python 3",
   "language": "python",
   "name": "python3"
  },
  "language_info": {
   "codemirror_mode": {
    "name": "ipython",
    "version": 3
   },
   "file_extension": ".py",
   "mimetype": "text/x-python",
   "name": "python",
   "nbconvert_exporter": "python",
   "pygments_lexer": "ipython3",
   "version": "3.11.5"
  },
  "orig_nbformat": 4
 },
 "nbformat": 4,
 "nbformat_minor": 2
}
